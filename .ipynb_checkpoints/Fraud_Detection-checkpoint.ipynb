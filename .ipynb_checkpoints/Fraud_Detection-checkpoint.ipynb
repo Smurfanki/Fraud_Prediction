{
 "cells": [
  {
   "cell_type": "code",
   "execution_count": 21,
   "id": "a1ecb214-2bef-4074-a311-df60477b06d8",
   "metadata": {},
   "outputs": [],
   "source": [
    "# ===============================================\n",
    "# Candidate Name: Anki Prakash\n",
    "# Assignment: Predicting Fraud Transactions\n",
    "# Submission Date: 24th August 2025\n",
    "# Email: ankiprakash03@gmail.com\n",
    "\n",
    "# ===============================================\n",
    "\n",
    "# This notebook contains my solutions for the Accredian screening assignment.\n"
   ]
  },
  {
   "cell_type": "code",
   "execution_count": 23,
   "id": "bb768775-6b4d-44f6-a65d-10c8a8bf7180",
   "metadata": {},
   "outputs": [],
   "source": [
    "# The assignment covers data analysis, visualization, and machine learning tasks as outlined in the instructions."
   ]
  },
  {
   "cell_type": "code",
   "execution_count": 3,
   "id": "614f04e2-41ea-4e41-abf2-ff09154c2136",
   "metadata": {},
   "outputs": [
    {
     "data": {
      "text/plain": [
       "['Data Dictionary.txt',\n",
       " 'Fraud_Detection.ipynb',\n",
       " '.ipynb_checkpoints',\n",
       " 'Fraud.csv']"
      ]
     },
     "execution_count": 3,
     "metadata": {},
     "output_type": "execute_result"
    }
   ],
   "source": [
    "import os\n",
    "\n",
    "# List all files in current directory\n",
    "os.listdir()\n"
   ]
  },
  {
   "cell_type": "code",
   "execution_count": null,
   "id": "fe171644-f6bd-4cef-8fe2-06a72fbf8761",
   "metadata": {},
   "outputs": [],
   "source": [
    "import pandas as pd\n",
    "\n",
    "# Load the full dataset\n",
    "df = pd.read_csv('Fraud.csv')  # use exact file name from your folder\n",
    "\n",
    "# Sample 200,000 rows for sharing (or less if you want faster execution)\n",
    "df_sample = df.sample(n=200000, random_state=42)\n",
    "\n",
    "# Save the sample dataset\n",
    "df_sample.to_csv('fraud_sample.csv', index=False)\n",
    "print(\"Sample dataset created successfully!\")\n"
   ]
  },
  {
   "cell_type": "code",
   "execution_count": 1,
   "id": "515ee1cc-a854-4386-a671-4166287ca565",
   "metadata": {},
   "outputs": [
    {
     "name": "stdout",
     "output_type": "stream",
     "text": [
      "Requirement already satisfied: pandas in /home/snehanidhi/.local/lib/python3.8/site-packages (2.0.3)\n",
      "Requirement already satisfied: numpy>=1.20.3; python_version < \"3.10\" in /home/snehanidhi/.local/lib/python3.8/site-packages (from pandas) (1.24.4)\n",
      "Requirement already satisfied: pytz>=2020.1 in /home/snehanidhi/.local/lib/python3.8/site-packages (from pandas) (2025.2)\n",
      "Requirement already satisfied: python-dateutil>=2.8.2 in /home/snehanidhi/.local/lib/python3.8/site-packages (from pandas) (2.9.0.post0)\n",
      "Requirement already satisfied: tzdata>=2022.1 in /home/snehanidhi/.local/lib/python3.8/site-packages (from pandas) (2025.2)\n",
      "Requirement already satisfied: six>=1.5 in /usr/lib/python3/dist-packages (from python-dateutil>=2.8.2->pandas) (1.14.0)\n"
     ]
    }
   ],
   "source": [
    "!pip install pandas"
   ]
  },
  {
   "cell_type": "code",
   "execution_count": 2,
   "id": "bff1eec4-18f4-46a6-a77f-07a16aef26e3",
   "metadata": {},
   "outputs": [
    {
     "data": {
      "text/html": [
       "<div>\n",
       "<style scoped>\n",
       "    .dataframe tbody tr th:only-of-type {\n",
       "        vertical-align: middle;\n",
       "    }\n",
       "\n",
       "    .dataframe tbody tr th {\n",
       "        vertical-align: top;\n",
       "    }\n",
       "\n",
       "    .dataframe thead th {\n",
       "        text-align: right;\n",
       "    }\n",
       "</style>\n",
       "<table border=\"1\" class=\"dataframe\">\n",
       "  <thead>\n",
       "    <tr style=\"text-align: right;\">\n",
       "      <th></th>\n",
       "      <th>step</th>\n",
       "      <th>type</th>\n",
       "      <th>amount</th>\n",
       "      <th>nameOrig</th>\n",
       "      <th>oldbalanceOrg</th>\n",
       "      <th>newbalanceOrig</th>\n",
       "      <th>nameDest</th>\n",
       "      <th>oldbalanceDest</th>\n",
       "      <th>newbalanceDest</th>\n",
       "      <th>isFraud</th>\n",
       "      <th>isFlaggedFraud</th>\n",
       "    </tr>\n",
       "  </thead>\n",
       "  <tbody>\n",
       "    <tr>\n",
       "      <th>0</th>\n",
       "      <td>1</td>\n",
       "      <td>PAYMENT</td>\n",
       "      <td>9839.64</td>\n",
       "      <td>C1231006815</td>\n",
       "      <td>170136.0</td>\n",
       "      <td>160296.36</td>\n",
       "      <td>M1979787155</td>\n",
       "      <td>0.0</td>\n",
       "      <td>0.0</td>\n",
       "      <td>0</td>\n",
       "      <td>0</td>\n",
       "    </tr>\n",
       "    <tr>\n",
       "      <th>1</th>\n",
       "      <td>1</td>\n",
       "      <td>PAYMENT</td>\n",
       "      <td>1864.28</td>\n",
       "      <td>C1666544295</td>\n",
       "      <td>21249.0</td>\n",
       "      <td>19384.72</td>\n",
       "      <td>M2044282225</td>\n",
       "      <td>0.0</td>\n",
       "      <td>0.0</td>\n",
       "      <td>0</td>\n",
       "      <td>0</td>\n",
       "    </tr>\n",
       "    <tr>\n",
       "      <th>2</th>\n",
       "      <td>1</td>\n",
       "      <td>TRANSFER</td>\n",
       "      <td>181.00</td>\n",
       "      <td>C1305486145</td>\n",
       "      <td>181.0</td>\n",
       "      <td>0.00</td>\n",
       "      <td>C553264065</td>\n",
       "      <td>0.0</td>\n",
       "      <td>0.0</td>\n",
       "      <td>1</td>\n",
       "      <td>0</td>\n",
       "    </tr>\n",
       "    <tr>\n",
       "      <th>3</th>\n",
       "      <td>1</td>\n",
       "      <td>CASH_OUT</td>\n",
       "      <td>181.00</td>\n",
       "      <td>C840083671</td>\n",
       "      <td>181.0</td>\n",
       "      <td>0.00</td>\n",
       "      <td>C38997010</td>\n",
       "      <td>21182.0</td>\n",
       "      <td>0.0</td>\n",
       "      <td>1</td>\n",
       "      <td>0</td>\n",
       "    </tr>\n",
       "    <tr>\n",
       "      <th>4</th>\n",
       "      <td>1</td>\n",
       "      <td>PAYMENT</td>\n",
       "      <td>11668.14</td>\n",
       "      <td>C2048537720</td>\n",
       "      <td>41554.0</td>\n",
       "      <td>29885.86</td>\n",
       "      <td>M1230701703</td>\n",
       "      <td>0.0</td>\n",
       "      <td>0.0</td>\n",
       "      <td>0</td>\n",
       "      <td>0</td>\n",
       "    </tr>\n",
       "  </tbody>\n",
       "</table>\n",
       "</div>"
      ],
      "text/plain": [
       "   step      type    amount     nameOrig  oldbalanceOrg  newbalanceOrig  \\\n",
       "0     1   PAYMENT   9839.64  C1231006815       170136.0       160296.36   \n",
       "1     1   PAYMENT   1864.28  C1666544295        21249.0        19384.72   \n",
       "2     1  TRANSFER    181.00  C1305486145          181.0            0.00   \n",
       "3     1  CASH_OUT    181.00   C840083671          181.0            0.00   \n",
       "4     1   PAYMENT  11668.14  C2048537720        41554.0        29885.86   \n",
       "\n",
       "      nameDest  oldbalanceDest  newbalanceDest  isFraud  isFlaggedFraud  \n",
       "0  M1979787155             0.0             0.0        0               0  \n",
       "1  M2044282225             0.0             0.0        0               0  \n",
       "2   C553264065             0.0             0.0        1               0  \n",
       "3    C38997010         21182.0             0.0        1               0  \n",
       "4  M1230701703             0.0             0.0        0               0  "
      ]
     },
     "execution_count": 2,
     "metadata": {},
     "output_type": "execute_result"
    }
   ],
   "source": [
    "import pandas as pd\n",
    "\n",
    "df = pd.read_csv(\"Fraud.csv\")\n",
    "\n",
    "df.head()\n",
    "\n",
    "\n",
    "\n"
   ]
  },
  {
   "cell_type": "code",
   "execution_count": 3,
   "id": "59063a0a-d493-4e2e-801b-15a494237fd1",
   "metadata": {},
   "outputs": [
    {
     "name": "stdout",
     "output_type": "stream",
     "text": [
      "Shape of dataset: (6362620, 11)\n"
     ]
    }
   ],
   "source": [
    "\n",
    "print(\"Shape of dataset:\", df.shape)"
   ]
  },
  {
   "cell_type": "code",
   "execution_count": 4,
   "id": "59a49c8c-4d0d-41da-b49a-dea7f5b03196",
   "metadata": {},
   "outputs": [
    {
     "name": "stdout",
     "output_type": "stream",
     "text": [
      "\n",
      "Column info:\n",
      "<class 'pandas.core.frame.DataFrame'>\n",
      "RangeIndex: 6362620 entries, 0 to 6362619\n",
      "Data columns (total 11 columns):\n",
      " #   Column          Dtype  \n",
      "---  ------          -----  \n",
      " 0   step            int64  \n",
      " 1   type            object \n",
      " 2   amount          float64\n",
      " 3   nameOrig        object \n",
      " 4   oldbalanceOrg   float64\n",
      " 5   newbalanceOrig  float64\n",
      " 6   nameDest        object \n",
      " 7   oldbalanceDest  float64\n",
      " 8   newbalanceDest  float64\n",
      " 9   isFraud         int64  \n",
      " 10  isFlaggedFraud  int64  \n",
      "dtypes: float64(5), int64(3), object(3)\n",
      "memory usage: 534.0+ MB\n",
      "None\n"
     ]
    }
   ],
   "source": [
    "# 1. Column names & data types\n",
    "print(\"\\nColumn info:\")\n",
    "print(df.info())"
   ]
  },
  {
   "cell_type": "code",
   "execution_count": 5,
   "id": "bbc91d79-9d78-4cde-8bf2-d53c5b667471",
   "metadata": {},
   "outputs": [
    {
     "name": "stdout",
     "output_type": "stream",
     "text": [
      "\n",
      "Missing values:\n",
      "step              0\n",
      "type              0\n",
      "amount            0\n",
      "nameOrig          0\n",
      "oldbalanceOrg     0\n",
      "newbalanceOrig    0\n",
      "nameDest          0\n",
      "oldbalanceDest    0\n",
      "newbalanceDest    0\n",
      "isFraud           0\n",
      "isFlaggedFraud    0\n",
      "dtype: int64\n"
     ]
    }
   ],
   "source": [
    "# 2. Check missing values\n",
    "print(\"\\nMissing values:\")\n",
    "print(df.isnull().sum())"
   ]
  },
  {
   "cell_type": "code",
   "execution_count": 6,
   "id": "be0680a5-2620-4ecd-8a03-2e1179b25dbb",
   "metadata": {},
   "outputs": [
    {
     "name": "stdout",
     "output_type": "stream",
     "text": [
      "\n",
      "Summary statistics:\n",
      "               step        amount  oldbalanceOrg  newbalanceOrig  \\\n",
      "count  6.362620e+06  6.362620e+06   6.362620e+06    6.362620e+06   \n",
      "mean   2.433972e+02  1.798619e+05   8.338831e+05    8.551137e+05   \n",
      "std    1.423320e+02  6.038582e+05   2.888243e+06    2.924049e+06   \n",
      "min    1.000000e+00  0.000000e+00   0.000000e+00    0.000000e+00   \n",
      "25%    1.560000e+02  1.338957e+04   0.000000e+00    0.000000e+00   \n",
      "50%    2.390000e+02  7.487194e+04   1.420800e+04    0.000000e+00   \n",
      "75%    3.350000e+02  2.087215e+05   1.073152e+05    1.442584e+05   \n",
      "max    7.430000e+02  9.244552e+07   5.958504e+07    4.958504e+07   \n",
      "\n",
      "       oldbalanceDest  newbalanceDest       isFraud  isFlaggedFraud  \n",
      "count    6.362620e+06    6.362620e+06  6.362620e+06    6.362620e+06  \n",
      "mean     1.100702e+06    1.224996e+06  1.290820e-03    2.514687e-06  \n",
      "std      3.399180e+06    3.674129e+06  3.590480e-02    1.585775e-03  \n",
      "min      0.000000e+00    0.000000e+00  0.000000e+00    0.000000e+00  \n",
      "25%      0.000000e+00    0.000000e+00  0.000000e+00    0.000000e+00  \n",
      "50%      1.327057e+05    2.146614e+05  0.000000e+00    0.000000e+00  \n",
      "75%      9.430367e+05    1.111909e+06  0.000000e+00    0.000000e+00  \n",
      "max      3.560159e+08    3.561793e+08  1.000000e+00    1.000000e+00  \n"
     ]
    }
   ],
   "source": [
    "# 3. Summary statistics\n",
    "print(\"\\nSummary statistics:\")\n",
    "print(df.describe())"
   ]
  },
  {
   "cell_type": "code",
   "execution_count": 7,
   "id": "e88f4c6a-aea1-40da-83e0-8408cf2a3f90",
   "metadata": {},
   "outputs": [
    {
     "name": "stdout",
     "output_type": "stream",
     "text": [
      "Fraud vs Non-Fraud:\n",
      " isFraud\n",
      "0    6354407\n",
      "1       8213\n",
      "Name: count, dtype: int64\n",
      "\n",
      "Fraud percentage:\n",
      " isFraud\n",
      "0    99.870918\n",
      "1     0.129082\n",
      "Name: count, dtype: float64\n"
     ]
    }
   ],
   "source": [
    "# 4. Fraud vs Non-Fraud counts\n",
    "fraud_counts = df['isFraud'].value_counts()\n",
    "print(\"Fraud vs Non-Fraud:\\n\", fraud_counts)\n",
    "\n",
    "# 5. Percentage distribution\n",
    "fraud_percentage = (fraud_counts / len(df)) * 100\n",
    "print(\"\\nFraud percentage:\\n\", fraud_percentage)\n",
    "\n"
   ]
  },
  {
   "cell_type": "code",
   "execution_count": 8,
   "id": "4176c4d6-9c13-449d-9ec1-097da55a4585",
   "metadata": {},
   "outputs": [
    {
     "name": "stdout",
     "output_type": "stream",
     "text": [
      "          Total Transactions  Fraud Transactions  Fraud Rate (%)\n",
      "type                                                            \n",
      "CASH_IN              1399284                   0          0.0000\n",
      "CASH_OUT             2237500                4116          0.1840\n",
      "DEBIT                  41432                   0          0.0000\n",
      "PAYMENT              2151495                   0          0.0000\n",
      "TRANSFER              532909                4097          0.7688\n"
     ]
    }
   ],
   "source": [
    "# 6. Fraud distribution by transaction type\n",
    "fraud_by_type = df.groupby('type')['isFraud'].sum()\n",
    "total_by_type = df['type'].value_counts()\n",
    "\n",
    "fraud_summary = pd.DataFrame({\n",
    "    'Total Transactions': total_by_type,\n",
    "    'Fraud Transactions': fraud_by_type,\n",
    "    'Fraud Rate (%)': (fraud_by_type / total_by_type * 100).round(4)\n",
    "})\n",
    "\n",
    "print(fraud_summary)\n"
   ]
  },
  {
   "cell_type": "code",
   "execution_count": 9,
   "id": "15571b1d-6e16-4acc-a76c-65bca2553c24",
   "metadata": {},
   "outputs": [],
   "source": [
    "#dropping nameOrig and nameDest. They are just IDs of accounts (not useful for prediction, too many unique values."
   ]
  },
  {
   "cell_type": "code",
   "execution_count": 10,
   "id": "ad45b8c0-d142-4272-909b-cae19526f7c8",
   "metadata": {},
   "outputs": [
    {
     "name": "stdout",
     "output_type": "stream",
     "text": [
      "New shape: (6362620, 9)\n"
     ]
    }
   ],
   "source": [
    "# 7. Drop useless ID columns\n",
    "df = df.drop(['nameOrig', 'nameDest'], axis=1)\n",
    "\n",
    "# 8. Confirm the new shape\n",
    "print(\"New shape:\", df.shape)\n"
   ]
  },
  {
   "cell_type": "code",
   "execution_count": 11,
   "id": "bb59b4c5-d363-4ca7-9f5d-4f42d4bdd375",
   "metadata": {},
   "outputs": [
    {
     "name": "stdout",
     "output_type": "stream",
     "text": [
      "Unique values in diff_orig: 4717358\n",
      "Unique values in diff_dest: 3170212\n",
      "\n",
      "Number of inconsistent rows: 6240563\n"
     ]
    },
    {
     "data": {
      "text/html": [
       "<div>\n",
       "<style scoped>\n",
       "    .dataframe tbody tr th:only-of-type {\n",
       "        vertical-align: middle;\n",
       "    }\n",
       "\n",
       "    .dataframe tbody tr th {\n",
       "        vertical-align: top;\n",
       "    }\n",
       "\n",
       "    .dataframe thead th {\n",
       "        text-align: right;\n",
       "    }\n",
       "</style>\n",
       "<table border=\"1\" class=\"dataframe\">\n",
       "  <thead>\n",
       "    <tr style=\"text-align: right;\">\n",
       "      <th></th>\n",
       "      <th>step</th>\n",
       "      <th>type</th>\n",
       "      <th>amount</th>\n",
       "      <th>oldbalanceOrg</th>\n",
       "      <th>newbalanceOrig</th>\n",
       "      <th>oldbalanceDest</th>\n",
       "      <th>newbalanceDest</th>\n",
       "      <th>isFraud</th>\n",
       "      <th>isFlaggedFraud</th>\n",
       "      <th>diff_orig</th>\n",
       "      <th>diff_dest</th>\n",
       "    </tr>\n",
       "  </thead>\n",
       "  <tbody>\n",
       "    <tr>\n",
       "      <th>0</th>\n",
       "      <td>1</td>\n",
       "      <td>PAYMENT</td>\n",
       "      <td>9839.64</td>\n",
       "      <td>170136.0</td>\n",
       "      <td>160296.36</td>\n",
       "      <td>0.0</td>\n",
       "      <td>0.0</td>\n",
       "      <td>0</td>\n",
       "      <td>0</td>\n",
       "      <td>0.0</td>\n",
       "      <td>9839.64</td>\n",
       "    </tr>\n",
       "    <tr>\n",
       "      <th>1</th>\n",
       "      <td>1</td>\n",
       "      <td>PAYMENT</td>\n",
       "      <td>1864.28</td>\n",
       "      <td>21249.0</td>\n",
       "      <td>19384.72</td>\n",
       "      <td>0.0</td>\n",
       "      <td>0.0</td>\n",
       "      <td>0</td>\n",
       "      <td>0</td>\n",
       "      <td>0.0</td>\n",
       "      <td>1864.28</td>\n",
       "    </tr>\n",
       "    <tr>\n",
       "      <th>2</th>\n",
       "      <td>1</td>\n",
       "      <td>TRANSFER</td>\n",
       "      <td>181.00</td>\n",
       "      <td>181.0</td>\n",
       "      <td>0.00</td>\n",
       "      <td>0.0</td>\n",
       "      <td>0.0</td>\n",
       "      <td>1</td>\n",
       "      <td>0</td>\n",
       "      <td>0.0</td>\n",
       "      <td>181.00</td>\n",
       "    </tr>\n",
       "    <tr>\n",
       "      <th>3</th>\n",
       "      <td>1</td>\n",
       "      <td>CASH_OUT</td>\n",
       "      <td>181.00</td>\n",
       "      <td>181.0</td>\n",
       "      <td>0.00</td>\n",
       "      <td>21182.0</td>\n",
       "      <td>0.0</td>\n",
       "      <td>1</td>\n",
       "      <td>0</td>\n",
       "      <td>0.0</td>\n",
       "      <td>21363.00</td>\n",
       "    </tr>\n",
       "    <tr>\n",
       "      <th>4</th>\n",
       "      <td>1</td>\n",
       "      <td>PAYMENT</td>\n",
       "      <td>11668.14</td>\n",
       "      <td>41554.0</td>\n",
       "      <td>29885.86</td>\n",
       "      <td>0.0</td>\n",
       "      <td>0.0</td>\n",
       "      <td>0</td>\n",
       "      <td>0</td>\n",
       "      <td>0.0</td>\n",
       "      <td>11668.14</td>\n",
       "    </tr>\n",
       "  </tbody>\n",
       "</table>\n",
       "</div>"
      ],
      "text/plain": [
       "   step      type    amount  oldbalanceOrg  newbalanceOrig  oldbalanceDest  \\\n",
       "0     1   PAYMENT   9839.64       170136.0       160296.36             0.0   \n",
       "1     1   PAYMENT   1864.28        21249.0        19384.72             0.0   \n",
       "2     1  TRANSFER    181.00          181.0            0.00             0.0   \n",
       "3     1  CASH_OUT    181.00          181.0            0.00         21182.0   \n",
       "4     1   PAYMENT  11668.14        41554.0        29885.86             0.0   \n",
       "\n",
       "   newbalanceDest  isFraud  isFlaggedFraud  diff_orig  diff_dest  \n",
       "0             0.0        0               0        0.0    9839.64  \n",
       "1             0.0        0               0        0.0    1864.28  \n",
       "2             0.0        1               0        0.0     181.00  \n",
       "3             0.0        1               0        0.0   21363.00  \n",
       "4             0.0        0               0        0.0   11668.14  "
      ]
     },
     "execution_count": 11,
     "metadata": {},
     "output_type": "execute_result"
    }
   ],
   "source": [
    "# 9. Check consistency: oldbalanceOrg - amount vs newbalanceOrg\n",
    "df['diff_orig'] = df['oldbalanceOrg'] - df['amount'] - df['newbalanceOrig']\n",
    "\n",
    "# 10. Check consistency: oldbalanceDest + amount vs newbalanceDest\n",
    "df['diff_dest'] = df['oldbalanceDest'] + df['amount'] - df['newbalanceDest']\n",
    "\n",
    "# 11. Look at unusual values\n",
    "print(\"Unique values in diff_orig:\", df['diff_orig'].nunique())\n",
    "print(\"Unique values in diff_dest:\", df['diff_dest'].nunique())\n",
    "\n",
    "# 12. Show some inconsistent rows\n",
    "df_inconsistent = df[(df['diff_orig'] != 0) | (df['diff_dest'] != 0)]\n",
    "print(\"\\nNumber of inconsistent rows:\", len(df_inconsistent))\n",
    "df_inconsistent.head()\n"
   ]
  },
  {
   "cell_type": "code",
   "execution_count": 12,
   "id": "552f0bc2-d186-4982-8ef5-28cb6533858c",
   "metadata": {},
   "outputs": [
    {
     "name": "stdout",
     "output_type": "stream",
     "text": [
      "New shape: (6362620, 14)\n",
      "\n",
      "Columns: ['step', 'amount', 'oldbalanceOrg', 'newbalanceOrig', 'oldbalanceDest', 'newbalanceDest', 'isFraud', 'isFlaggedFraud', 'diff_orig', 'diff_dest', 'type_CASH_OUT', 'type_DEBIT', 'type_PAYMENT', 'type_TRANSFER']\n"
     ]
    }
   ],
   "source": [
    "# 13. Convert transaction type to dummy variables\n",
    "df = pd.get_dummies(df, columns=['type'], drop_first=True)\n",
    "\n",
    "# 14. Check the new shape and columns\n",
    "print(\"New shape:\", df.shape)\n",
    "print(\"\\nColumns:\", df.columns.tolist())\n"
   ]
  },
  {
   "cell_type": "code",
   "execution_count": 13,
   "id": "90a28555-c466-4462-82ea-d67a4ac57f49",
   "metadata": {},
   "outputs": [
    {
     "name": "stdout",
     "output_type": "stream",
     "text": [
      "Requirement already satisfied: scikit-learn in /home/snehanidhi/.local/lib/python3.8/site-packages (1.3.2)\n",
      "Requirement already satisfied: joblib>=1.1.1 in /home/snehanidhi/.local/lib/python3.8/site-packages (from scikit-learn) (1.4.2)\n",
      "Requirement already satisfied: scipy>=1.5.0 in /home/snehanidhi/.local/lib/python3.8/site-packages (from scikit-learn) (1.10.1)\n",
      "Requirement already satisfied: threadpoolctl>=2.0.0 in /home/snehanidhi/.local/lib/python3.8/site-packages (from scikit-learn) (3.5.0)\n",
      "Requirement already satisfied: numpy<2.0,>=1.17.3 in /home/snehanidhi/.local/lib/python3.8/site-packages (from scikit-learn) (1.24.4)\n"
     ]
    }
   ],
   "source": [
    "!pip install scikit-learn\n"
   ]
  },
  {
   "cell_type": "code",
   "execution_count": 14,
   "id": "525df9c6-ae58-4256-b453-2ef96df9b13a",
   "metadata": {},
   "outputs": [],
   "source": [
    "## - from sklearn.model_selection import train_test_split\n",
    "\n",
    "# Features (drop target column)\n",
    "## - X = df.drop(['isFraud'], axis=1)\n",
    "\n",
    "# Target\n",
    "## - y = df['isFraud']\n",
    "\n",
    "# Split data: 70% training, 30% testing\n",
    "## - X_train, X_test, y_train, y_test = train_test_split(\n",
    "## -    X, y, test_size=0.3, random_state=42, stratify=y\n",
    "## - )\n",
    "\n",
    "## - print(\"Train shape:\", X_train.shape, y_train.shape)\n",
    "## - print(\"Test shape:\", X_test.shape, y_test.shape)   \n"
   ]
  },
  {
   "cell_type": "code",
   "execution_count": 15,
   "id": "fae4dc9a-57a4-489e-98ad-103b72311c14",
   "metadata": {},
   "outputs": [],
   "source": [
    "# **Baseline Model (logistic regression)**\n"
   ]
  },
  {
   "cell_type": "code",
   "execution_count": 16,
   "id": "2058abed-c42c-42d3-ac49-c19f3a48d037",
   "metadata": {},
   "outputs": [
    {
     "name": "stdout",
     "output_type": "stream",
     "text": [
      "Sampled Train shape: (140000, 13) (140000,)\n",
      "Sampled Test shape: (60000, 13) (60000,)\n"
     ]
    }
   ],
   "source": [
    "# Use a smaller sample for quick training\n",
    "df_sample = df.sample(n=200000, random_state=42)\n",
    "\n",
    "X = df_sample.drop(['isFraud'], axis=1)\n",
    "y = df_sample['isFraud']\n",
    "\n",
    "from sklearn.model_selection import train_test_split\n",
    "X_train, X_test, y_train, y_test = train_test_split(\n",
    "    X, y, test_size=0.3, random_state=42, stratify=y\n",
    ")\n",
    "\n",
    "print(\"Sampled Train shape:\", X_train.shape, y_train.shape)\n",
    "print(\"Sampled Test shape:\", X_test.shape, y_test.shape)\n"
   ]
  },
  {
   "cell_type": "code",
   "execution_count": 17,
   "id": "187807e2-3e27-404c-b6b8-2ec084d660a6",
   "metadata": {},
   "outputs": [
    {
     "name": "stdout",
     "output_type": "stream",
     "text": [
      "Training model on sample...\n",
      "\n",
      "Confusion Matrix:\n",
      " [[57692  2228]\n",
      " [    5    75]]\n",
      "\n",
      "Classification Report:\n",
      "               precision    recall  f1-score   support\n",
      "\n",
      "           0     0.9999    0.9628    0.9810     59920\n",
      "           1     0.0326    0.9375    0.0629        80\n",
      "\n",
      "    accuracy                         0.9628     60000\n",
      "   macro avg     0.5162    0.9502    0.5220     60000\n",
      "weighted avg     0.9986    0.9628    0.9798     60000\n",
      "\n",
      "\n",
      "ROC-AUC Score: 0.9501585447263018\n"
     ]
    }
   ],
   "source": [
    "from sklearn.linear_model import LogisticRegression\n",
    "from sklearn.metrics import classification_report, confusion_matrix, roc_auc_score\n",
    "\n",
    "# Logistic Regression with class weight to handle imbalance\n",
    "log_model = LogisticRegression(max_iter=100, solver='liblinear', class_weight='balanced')\n",
    "\n",
    "print(\"Training model on sample...\")\n",
    "log_model.fit(X_train, y_train)\n",
    "\n",
    "# Predictions\n",
    "y_pred = log_model.predict(X_test)\n",
    "\n",
    "# Evaluation\n",
    "print(\"\\nConfusion Matrix:\\n\", confusion_matrix(y_test, y_pred))\n",
    "print(\"\\nClassification Report:\\n\", classification_report(y_test, y_pred, digits=4))\n",
    "print(\"\\nROC-AUC Score:\", roc_auc_score(y_test, y_pred))\n"
   ]
  },
  {
   "cell_type": "code",
   "execution_count": 18,
   "id": "f808d38d-f4dc-442e-98ac-eba24f35afb5",
   "metadata": {},
   "outputs": [
    {
     "name": "stdout",
     "output_type": "stream",
     "text": [
      "Training Random Forest...\n",
      "\n",
      "Confusion Matrix:\n",
      " [[59920     0]\n",
      " [    0    80]]\n",
      "\n",
      "Classification Report:\n",
      "               precision    recall  f1-score   support\n",
      "\n",
      "           0     1.0000    1.0000    1.0000     59920\n",
      "           1     1.0000    1.0000    1.0000        80\n",
      "\n",
      "    accuracy                         1.0000     60000\n",
      "   macro avg     1.0000    1.0000    1.0000     60000\n",
      "weighted avg     1.0000    1.0000    1.0000     60000\n",
      "\n",
      "\n",
      "ROC-AUC Score: 1.0\n",
      "\n",
      "Top Features:\n",
      " diff_orig         0.394982\n",
      "newbalanceOrig    0.160183\n",
      "oldbalanceOrg     0.114913\n",
      "type_TRANSFER     0.065454\n",
      "type_PAYMENT      0.064479\n",
      "amount            0.063046\n",
      "step              0.045144\n",
      "diff_dest         0.028290\n",
      "newbalanceDest    0.022861\n",
      "type_CASH_OUT     0.022069\n",
      "dtype: float64\n"
     ]
    }
   ],
   "source": [
    "from sklearn.ensemble import RandomForestClassifier\n",
    "from sklearn.metrics import classification_report, confusion_matrix, roc_auc_score\n",
    "\n",
    "# Train Random Forest (limit trees for speed)\n",
    "rf_model = RandomForestClassifier(\n",
    "    n_estimators=100, \n",
    "    max_depth=10, \n",
    "    class_weight='balanced',\n",
    "    random_state=42,\n",
    "    n_jobs=-1  # use all CPU cores\n",
    ")\n",
    "\n",
    "print(\"Training Random Forest...\")\n",
    "rf_model.fit(X_train, y_train)\n",
    "\n",
    "# Predictions\n",
    "y_pred_rf = rf_model.predict(X_test)\n",
    "\n",
    "# Evaluation\n",
    "print(\"\\nConfusion Matrix:\\n\", confusion_matrix(y_test, y_pred_rf))\n",
    "print(\"\\nClassification Report:\\n\", classification_report(y_test, y_pred_rf, digits=4))\n",
    "print(\"\\nROC-AUC Score:\", roc_auc_score(y_test, y_pred_rf))\n",
    "\n",
    "# Feature importance\n",
    "import pandas as pd\n",
    "feat_importances = pd.Series(rf_model.feature_importances_, index=X_train.columns)\n",
    "print(\"\\nTop Features:\\n\", feat_importances.sort_values(ascending=False).head(10))\n"
   ]
  },
  {
   "cell_type": "code",
   "execution_count": 19,
   "id": "ebce97b8-be49-428d-b6d6-b7304b9ac45f",
   "metadata": {
    "scrolled": true
   },
   "outputs": [
    {
     "name": "stdout",
     "output_type": "stream",
     "text": [
      "Requirement already satisfied: xgboost in /home/snehanidhi/.local/lib/python3.8/site-packages (2.1.4)\n",
      "Requirement already satisfied: numpy in /home/snehanidhi/.local/lib/python3.8/site-packages (from xgboost) (1.24.4)\n",
      "Requirement already satisfied: scipy in /home/snehanidhi/.local/lib/python3.8/site-packages (from xgboost) (1.10.1)\n"
     ]
    }
   ],
   "source": [
    "!pip install xgboost\n"
   ]
  },
  {
   "cell_type": "code",
   "execution_count": 20,
   "id": "52ef84c1-97ad-4613-a631-b7378ba920e4",
   "metadata": {},
   "outputs": [
    {
     "name": "stdout",
     "output_type": "stream",
     "text": [
      "Training XGBoost...\n"
     ]
    },
    {
     "name": "stderr",
     "output_type": "stream",
     "text": [
      "/home/snehanidhi/.local/lib/python3.8/site-packages/xgboost/core.py:265: FutureWarning: Your system has an old version of glibc (< 2.28). We will stop supporting Linux distros with glibc older than 2.28 after **May 31, 2025**. Please upgrade to a recent Linux distro (with glibc 2.28+) to use future versions of XGBoost.\n",
      "Note: You have installed the 'manylinux2014' variant of XGBoost. Certain features such as GPU algorithms or federated learning are not available. To use these features, please upgrade to a recent Linux distro with glibc 2.28+, and install the 'manylinux_2_28' variant.\n",
      "  warnings.warn(\n",
      "/home/snehanidhi/.local/lib/python3.8/site-packages/xgboost/core.py:158: UserWarning: [20:44:45] WARNING: /workspace/src/learner.cc:740: \n",
      "Parameters: { \"use_label_encoder\" } are not used.\n",
      "\n",
      "  warnings.warn(smsg, UserWarning)\n"
     ]
    },
    {
     "name": "stdout",
     "output_type": "stream",
     "text": [
      "\n",
      "Confusion Matrix:\n",
      " [[59907    13]\n",
      " [    1    79]]\n",
      "\n",
      "Classification Report:\n",
      "               precision    recall  f1-score   support\n",
      "\n",
      "           0     1.0000    0.9998    0.9999     59920\n",
      "           1     0.8587    0.9875    0.9186        80\n",
      "\n",
      "    accuracy                         0.9998     60000\n",
      "   macro avg     0.9293    0.9936    0.9592     60000\n",
      "weighted avg     0.9998    0.9998    0.9998     60000\n",
      "\n",
      "\n",
      "ROC-AUC Score: 0.9936415220293724\n",
      "\n",
      "Top Features:\n",
      " diff_orig         0.670655\n",
      "newbalanceOrig    0.299523\n",
      "diff_dest         0.019600\n",
      "type_PAYMENT      0.004341\n",
      "amount            0.002718\n",
      "oldbalanceDest    0.001158\n",
      "type_DEBIT        0.000840\n",
      "oldbalanceOrg     0.000632\n",
      "type_CASH_OUT     0.000230\n",
      "type_TRANSFER     0.000150\n",
      "dtype: float32\n"
     ]
    }
   ],
   "source": [
    "from xgboost import XGBClassifier\n",
    "from sklearn.metrics import classification_report, confusion_matrix, roc_auc_score\n",
    "\n",
    "# Train XGBoost on sampled data\n",
    "xgb_model = XGBClassifier(\n",
    "    n_estimators=200,\n",
    "    max_depth=8,\n",
    "    learning_rate=0.1,\n",
    "    scale_pos_weight=len(y_train[y_train==0]) / len(y_train[y_train==1]), # handle imbalance\n",
    "    random_state=42,\n",
    "    n_jobs=-1,\n",
    "    use_label_encoder=False,\n",
    "    eval_metric='logloss'\n",
    ")\n",
    "\n",
    "print(\"Training XGBoost...\")\n",
    "xgb_model.fit(X_train, y_train)\n",
    "\n",
    "# Predictions\n",
    "y_pred_xgb = xgb_model.predict(X_test)\n",
    "\n",
    "# Evaluation\n",
    "print(\"\\nConfusion Matrix:\\n\", confusion_matrix(y_test, y_pred_xgb))\n",
    "print(\"\\nClassification Report:\\n\", classification_report(y_test, y_pred_xgb, digits=4))\n",
    "print(\"\\nROC-AUC Score:\", roc_auc_score(y_test, y_pred_xgb))\n",
    "\n",
    "# Feature importance\n",
    "import pandas as pd\n",
    "feat_importances = pd.Series(xgb_model.feature_importances_, index=X_train.columns)\n",
    "print(\"\\nTop Features:\\n\", feat_importances.sort_values(ascending=False).head(10))\n"
   ]
  },
  {
   "cell_type": "markdown",
   "id": "dd6d1243-94e7-4901-bab4-4f13d3812bd4",
   "metadata": {},
   "source": [
    "## Q2. Describe Your Fraud Detection Model  \n",
    "\n",
    "We implemented three machine learning models:  \n",
    "\n",
    "- <font color=\"darkslategray\"><b>Logistic Regression</b></font> → used as a *baseline model*.  \n",
    "  - Strengths: simple, interpretable, efficient.  \n",
    "  - Weaknesses: struggled with extreme class imbalance → very low precision (**3.2%**) but very high recall (**93.7%**).  \n",
    "  - ROC-AUC: **0.95**.  \n",
    "\n",
    "- <font color=\"darkslategray\"><b>Random Forest</b></font> → a *tree-based ensemble model*.  \n",
    "  - Captured non-linear relationships and feature interactions.  \n",
    "  - Achieved **perfect classification** on the sampled dataset (Precision = 1.0, Recall = 1.0, ROC-AUC = 1.0).  \n",
    "  - Risk: may be slightly overfitting, since real-world performance is rarely perfect.  \n",
    "\n",
    "- <font color=\"darkslategray\"><b>XGBoost</b></font> → a *gradient boosting model*.  \n",
    "  - Handled imbalance effectively with weighted training.  \n",
    "  - Achieved Precision = **85.9%**, Recall = **98.8%**, F1 = **91.9%**, and ROC-AUC = **0.994**.  \n",
    "  - Provided more realistic and reliable performance compared to Random Forest.  \n",
    "\n",
    "> **Conclusion**: <font color=\"darkslategray\"><b>XGBoost</b></font> delivered the best trade-off between fraud detection (recall) and minimizing false alarms (precision), making it the most suitable for deployment.  \n",
    "\n",
    "---\n",
    "\n",
    "## Q3. How Did You Select Variables?  \n",
    "\n",
    "We began with 11 columns in the raw dataset.  \n",
    "\n",
    "- Dropped irrelevant identifiers:  \n",
    "  - `nameOrig`, `nameDest` (customer IDs, too many unique values, not predictive).  \n",
    "\n",
    "- Encoded categorical transaction type:  \n",
    "  - Converted `type` into dummy variables: <font color=\"darkslategray\"><b>CASH_OUT</b></font>, <font color=\"darkslategray\"><b>TRANSFER</b></font>, etc.  \n",
    "\n",
    "- Engineered new features:  \n",
    "  - <font color=\"darkslategray\"><b>diff_orig</b></font> = `oldbalanceOrg – amount – newbalanceOrig`  \n",
    "  - <font color=\"darkslategray\"><b>diff_dest</b></font> = `oldbalanceDest + amount – newbalanceDest`  \n",
    "\n",
    "These features capture **balance inconsistencies**, which turned out to be the **most important predictors of fraud**.  \n",
    "\n",
    "Final dataset: **14 features** → transaction type, amount, balances, and engineered differences.  \n",
    "\n",
    "---\n",
    "\n",
    "## Q4. Demonstrate Model Performance  \n",
    "\n",
    "We evaluated models using a **train/test split (70/30)** and key metrics: confusion matrix, precision, recall, F1-score, and ROC-AUC.  \n",
    "\n",
    "### Model Comparison\n",
    "\n",
    "| Model                | Precision (Fraud) | Recall (Fraud) | F1 (Fraud) | ROC-AUC |\n",
    "|----------------------|-------------------|----------------|------------|---------|\n",
    "| Logistic Regression  | **0.032**         | **0.938**      | 0.063      | 0.95    |\n",
    "| Random Forest        | **1.000**         | **1.000**      | 1.000      | 1.00    |\n",
    "| XGBoost              | **0.859**         | **0.988**      | 0.919      | 0.994   |\n",
    "\n",
    "> - <font color=\"darkslategray\"><b>Logistic Regression</b></font>: good recall but very poor precision.  \n",
    "> - <font color=\"darkslategray\"><b>Random Forest</b></font>: perfect performance on sample, but likely overfitting.  \n",
    "> - <font color=\"darkslategray\"><b>XGBoost</b></font>: excellent balance of recall and precision with very high ROC-AUC, making it the **most reliable choice**.  \n"
   ]
  },
  {
   "cell_type": "markdown",
   "id": "cbae3a7b-1bb5-495d-875c-12ce7b61fa58",
   "metadata": {},
   "source": [
    "## Q5. What are the key factors that predict fraudulent customers?  \n",
    "\n",
    "Based on <font color=\"darkslategray\"><b>feature importance</b></font> from Random Forest and XGBoost models, the most predictive factors are:  \n",
    "\n",
    "- <font color=\"darkslategray\"><b>diff_orig</b></font> → inconsistency between sender’s old balance, transaction amount, and new balance.  \n",
    "- <font color=\"darkslategray\"><b>newbalanceOrig</b></font> → if sender’s balance drops unusually (often to zero).  \n",
    "- <font color=\"darkslategray\"><b>oldbalanceOrg</b></font> → fraudsters often target accounts with higher starting balances.  \n",
    "- <font color=\"darkslategray\"><b>type_TRANSFER</b></font> and <font color=\"darkslategray\"><b>type_CASH_OUT</b></font> → fraud only occurs in these transaction types.  \n",
    "- <font color=\"darkslategray\"><b>amount</b></font> → unusually large transfers are more likely to be fraudulent.  \n",
    "\n",
    "---\n",
    "\n",
    "## Q6. Do these factors make sense?  \n",
    "\n",
    "Yes ✅ — these predictors align with real-world fraud behavior:  \n",
    "\n",
    "- Fraudsters often **empty victim accounts** → hence *diff_orig* and *newbalanceOrig* are strong signals.  \n",
    "- Fraud requires **movement of money** → *TRANSFER* followed by *CASH-OUT* transactions mirror real fraud scenarios.  \n",
    "- **High-value accounts** are prime targets → *oldbalanceOrg* is relevant.  \n",
    "- **Large transactions** are riskier by nature → *amount* matters.  \n",
    "\n",
    "Thus, the identified features are not only statistically significant but also *logically consistent* with financial fraud patterns.  \n",
    "\n",
    "---\n",
    "\n",
    "## Q7. What kind of prevention should be adopted while company updates its infrastructure?  \n",
    "\n",
    "The company should adopt a multi-layered fraud prevention strategy:  \n",
    "\n",
    "1. **Real-time Transaction Monitoring**  \n",
    "   - Deploy the trained <font color=\"darkslategray\"><b>XGBoost fraud model</b></font> in production.  \n",
    "   - Flag suspicious transfers and cash-outs immediately.  \n",
    "\n",
    "2. **Transaction Limits & Rules**  \n",
    "   - Block or flag unusually large transfers (e.g., > $200k).  \n",
    "   - Limit frequency of transactions within short time windows.  \n",
    "\n",
    "3. **Customer Authentication Enhancements**  \n",
    "   - Introduce two-factor authentication (2FA) for high-value transfers.  \n",
    "   - Alert customers of suspicious activity via SMS/email.  \n",
    "\n",
    "4. **Infrastructure Safeguards**  \n",
    "   - Regular anomaly detection audits.  \n",
    "   - Continuous model retraining on new data to adapt to evolving fraud tactics.  \n",
    "\n",
    "---\n",
    "\n",
    "## Q8. Assuming these actions have been implemented, how would you determine if they work?  \n",
    "\n",
    "Effectiveness can be measured using both *statistical metrics* and *business KPIs*:  \n",
    "\n",
    "- **Reduction in Fraud Rate** → compare % of fraudulent transactions *before vs after* implementation.  \n",
    "- **False Positive Analysis** → track how many genuine transactions are unnecessarily blocked/flagged.  \n",
    "- **Customer Feedback** → monitor customer complaints about account lockouts or blocked transactions.  \n",
    "- **Model Monitoring**  \n",
    "  - Monitor recall (fraud detection rate) and precision (false alarm rate).  \n",
    "  - Recalculate ROC-AUC periodically to ensure performance stability.  \n",
    "\n",
    "> Success is achieved if the system maintains **high recall** (catches most fraud) while steadily reducing **false positives** and overall fraud losses.\n",
    "\n"
   ]
  },
  {
   "cell_type": "markdown",
   "id": "9c08a817-5e09-4ea5-8821-47b0945f884d",
   "metadata": {},
   "source": [
    "#  Final Conclusion  \n",
    "\n",
    "In this project, we developed a fraud detection system for financial transactions using machine learning.  \n",
    "\n",
    "### 🔹 Data Preparation  \n",
    "- Dataset: **6.3 million transactions**, 11 raw features.  \n",
    "- Cleaning: removed irrelevant identifiers (`nameOrig`, `nameDest`).  \n",
    "- Feature Engineering: created <font color=\"darkslategray\"><b>diff_orig</b></font> and <font color=\"darkslategray\"><b>diff_dest</b></font> to capture balance inconsistencies.  \n",
    "- Encoding: converted categorical <font color=\"darkslategray\"><b>type</b></font> column into dummy variables.  \n",
    "- Final dataset: **14 features**.  \n",
    "\n",
    "### 🔹 Modeling  \n",
    "We tested three machine learning models:  \n",
    "\n",
    "- **Logistic Regression (baseline)** → High recall (93.7%) but very poor precision (3.2%).  \n",
    "- **Random Forest** → Perfect classification (Precision = 1.0, Recall = 1.0), but likely overfitting.  \n",
    "- **XGBoost** → Balanced performance with Precision = 85.9%, Recall = 98.8%, F1 = 91.9%, ROC-AUC = 0.994.  \n",
    "\n",
    "### 🔹 Key Insights  \n",
    "- Fraud occurs **only in TRANSFER and CASH-OUT** transactions.  \n",
    "- The most important fraud predictors were:  \n",
    "  - <font color=\"darkslategray\"><b>diff_orig</b></font> (balance mismatch for sender)  \n",
    "  - <font color=\"darkslategray\"><b>newbalanceOrig</b></font> (sender’s balance drops sharply)  \n",
    "  - <font color=\"darkslategray\"><b>oldbalanceOrg</b></font> (fraudsters target accounts with higher starting balances)  \n",
    "  - <font color=\"darkslategray\"><b>transaction amount</b></font> and <font color=\"darkslategray\"><b>transaction type</b></font>  \n",
    "\n",
    "### 🔹 Business Recommendations  \n",
    "- Deploy <font color=\"darkslategray\"><b>XGBoost</b></font> for **real-time fraud detection**.  \n",
    "- Implement **transaction limits** and **frequency checks** for high-risk transactions.  \n",
    "- Require **two-factor authentication (2FA)** for large transfers.  \n",
    "- Continuously **monitor model performance** and retrain with new fraud patterns.  \n",
    "\n",
    "### 🔹 Final Verdict  \n",
    "<font color=\"darkslategray\"><b>XGBoost</b></font> is the most suitable model for deployment. It balances fraud detection power (high recall) with reduced false alarms (high precision), making it both **effective and reliable** for proactive fraud prevention.  \n",
    "\n",
    "---\n",
    "✅ **Project Completed**: Data Cleaning → Modeling → Interpretation → Recommendations.  \n"
   ]
  },
  {
   "cell_type": "code",
   "execution_count": null,
   "id": "3fff82d1-527a-45c1-9c19-484ec8d0a825",
   "metadata": {},
   "outputs": [],
   "source": []
  }
 ],
 "metadata": {
  "kernelspec": {
   "display_name": "Python 3 (ipykernel)",
   "language": "python",
   "name": "python3"
  },
  "language_info": {
   "codemirror_mode": {
    "name": "ipython",
    "version": 3
   },
   "file_extension": ".py",
   "mimetype": "text/x-python",
   "name": "python",
   "nbconvert_exporter": "python",
   "pygments_lexer": "ipython3",
   "version": "3.8.10"
  }
 },
 "nbformat": 4,
 "nbformat_minor": 5
}
